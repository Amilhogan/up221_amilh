{
 "cells": [
  {
   "cell_type": "markdown",
   "id": "a1cdce35-298d-4d29-abcc-244f3cf3c4ea",
   "metadata": {},
   "source": [
    "# Week 2 Data Exploration: Arrest Data Analysis\n",
    "## Amil Hogan\n",
    "The purpose of this assignment is to work with [gis data](https://equity-lacounty.hub.arcgis.com/datasets/lacounty::incarceration-impact-neighborhood/explore?location=34.051983%2C-118.298507%2C8.68).\n",
    "\n",
    "This assignment involves data analysis on a dataset containing information about arrests made by the Los Angeles Police Department (LAPD) and Los Angeles Sheriff's Department (LASD). The data includes details such as the number of days individuals spent in jail, the cost associated with incarceration, and neighborhood-level data. This analysis aims to inspect and understand the dataset's structure, identify key patterns and trends, and visualize essential metrics like the distribution of days spent in jail.\n"
   ]
  },
  {
   "cell_type": "code",
   "execution_count": 2,
   "id": "4792ed52-5c51-496c-b672-3aaf4d016dc0",
   "metadata": {},
   "outputs": [
    {
     "name": "stdout",
     "output_type": "stream",
     "text": [
      "upload to GitHub\n"
     ]
    }
   ],
   "source": [
    "#printing demonstration to upload notebook to GitHub\n",
    "print('upload to GitHub')"
   ]
  },
  {
   "cell_type": "code",
   "execution_count": 3,
   "id": "5e7681f8-0269-47cf-ac4d-4f6a0ea59854",
   "metadata": {},
   "outputs": [],
   "source": [
    "#Data shows Arrests by LAPD and LASD, number of days spent in jail, and the calculated costs as reported by Million Dollar Hoods"
   ]
  },
  {
   "cell_type": "code",
   "execution_count": 13,
   "id": "fcc433a2-d503-4d75-b4c8-9bf0bbae9be5",
   "metadata": {},
   "outputs": [],
   "source": [
    "import pandas as pd\n",
    "import matplotlib.pyplot as plt\n"
   ]
  },
  {
   "cell_type": "code",
   "execution_count": null,
   "id": "d2c9eb54-174c-47de-9b1b-a8a45a9596da",
   "metadata": {},
   "outputs": [],
   "source": [
    "\n",
    "- Imported pandas for data manipulation and matplotlib for visualization."
   ]
  },
  {
   "cell_type": "code",
   "execution_count": 12,
   "id": "4593e65a-3437-4532-b26f-d5e127782de5",
   "metadata": {},
   "outputs": [],
   "source": [
    "data = pd.read_csv(\"data/Incarceration_Impact__neighborhood_-6858541333759097199.csv\")"
   ]
  },
  {
   "cell_type": "code",
   "execution_count": null,
   "id": "fedc1d63-c2dd-4cbf-8935-36f1a7ac4afd",
   "metadata": {},
   "outputs": [],
   "source": [
    "\n",
    "- Loaded the dataset from the `data` folder. The dataset contains arrest data, including the number of days spent in jail and the associated costs."
   ]
  },
  {
   "cell_type": "code",
   "execution_count": 15,
   "id": "6a582bb9-9e35-4e23-b801-9392ed68b4c6",
   "metadata": {},
   "outputs": [
    {
     "data": {
      "text/plain": [
       "(244, 19)"
      ]
     },
     "execution_count": 15,
     "metadata": {},
     "output_type": "execute_result"
    }
   ],
   "source": [
    "data.shape"
   ]
  },
  {
   "cell_type": "code",
   "execution_count": null,
   "id": "3a83cf32-9e5c-431d-bce5-e7db7fed4fd5",
   "metadata": {},
   "outputs": [],
   "source": [
    "\n",
    "- The `.shape` method returns the number of rows and columns in the dataset.\n",
    "- This gives us a quick idea of the size of the dataset"
   ]
  },
  {
   "cell_type": "code",
   "execution_count": 16,
   "id": "37135d18-79d0-4378-b28b-2d7862c99ac3",
   "metadata": {},
   "outputs": [
    {
     "name": "stdout",
     "output_type": "stream",
     "text": [
      "<class 'pandas.core.frame.DataFrame'>\n",
      "RangeIndex: 244 entries, 0 to 243\n",
      "Data columns (total 19 columns):\n",
      " #   Column                Non-Null Count  Dtype  \n",
      "---  ------                --------------  -----  \n",
      " 0   OBJECTID              244 non-null    int64  \n",
      " 1   Neighborhood          244 non-null    object \n",
      " 2   LAPD_Cost             244 non-null    int64  \n",
      " 3   LAPD_Days in Jail     244 non-null    int64  \n",
      " 4   LAPD_Arrests          244 non-null    int64  \n",
      " 5   LASD_Cost             244 non-null    int64  \n",
      " 6   LASD_Days in Jail     244 non-null    int64  \n",
      " 7   LASD_Arrests          244 non-null    int64  \n",
      " 8   2010 Population       244 non-null    int64  \n",
      " 9   Combo_Cost            244 non-null    int64  \n",
      " 10  Combo_Cost_PerPop     237 non-null    float64\n",
      " 11  Combo_Days            244 non-null    int64  \n",
      " 12  Combo_Days_PerPop     237 non-null    float64\n",
      " 13  Combo_Arrests         244 non-null    int64  \n",
      " 14  Combo_Arrests_PerPop  237 non-null    float64\n",
      " 15  spa                   244 non-null    object \n",
      " 16  sup_dist              244 non-null    object \n",
      " 17  Shape__Area           244 non-null    float64\n",
      " 18  Shape__Length         244 non-null    float64\n",
      "dtypes: float64(5), int64(11), object(3)\n",
      "memory usage: 36.3+ KB\n"
     ]
    }
   ],
   "source": [
    "data.info()"
   ]
  },
  {
   "cell_type": "code",
   "execution_count": null,
   "id": "6a5f49b3-b437-4376-94a3-753c5a2638fb",
   "metadata": {},
   "outputs": [],
   "source": [
    "\n",
    "- The `.info()` method provides details about the dataset:\n",
    "  - Column names\n",
    "  - Data types\n",
    "  - Non-null counts\n",
    "- This helps identify missing data and understand the structure of the dataset.\n"
   ]
  },
  {
   "cell_type": "code",
   "execution_count": 17,
   "id": "5452a2fa-dfc3-4c04-af99-5db00345ea96",
   "metadata": {},
   "outputs": [
    {
     "data": {
      "text/html": [
       "<div>\n",
       "<style scoped>\n",
       "    .dataframe tbody tr th:only-of-type {\n",
       "        vertical-align: middle;\n",
       "    }\n",
       "\n",
       "    .dataframe tbody tr th {\n",
       "        vertical-align: top;\n",
       "    }\n",
       "\n",
       "    .dataframe thead th {\n",
       "        text-align: right;\n",
       "    }\n",
       "</style>\n",
       "<table border=\"1\" class=\"dataframe\">\n",
       "  <thead>\n",
       "    <tr style=\"text-align: right;\">\n",
       "      <th></th>\n",
       "      <th>OBJECTID</th>\n",
       "      <th>Neighborhood</th>\n",
       "      <th>LAPD_Cost</th>\n",
       "      <th>LAPD_Days in Jail</th>\n",
       "      <th>LAPD_Arrests</th>\n",
       "      <th>LASD_Cost</th>\n",
       "      <th>LASD_Days in Jail</th>\n",
       "      <th>LASD_Arrests</th>\n",
       "      <th>2010 Population</th>\n",
       "      <th>Combo_Cost</th>\n",
       "      <th>Combo_Cost_PerPop</th>\n",
       "      <th>Combo_Days</th>\n",
       "      <th>Combo_Days_PerPop</th>\n",
       "      <th>Combo_Arrests</th>\n",
       "      <th>Combo_Arrests_PerPop</th>\n",
       "      <th>spa</th>\n",
       "      <th>sup_dist</th>\n",
       "      <th>Shape__Area</th>\n",
       "      <th>Shape__Length</th>\n",
       "    </tr>\n",
       "  </thead>\n",
       "  <tbody>\n",
       "    <tr>\n",
       "      <th>0</th>\n",
       "      <td>1</td>\n",
       "      <td>Acton</td>\n",
       "      <td>25282</td>\n",
       "      <td>110</td>\n",
       "      <td>51</td>\n",
       "      <td>1103120</td>\n",
       "      <td>7367</td>\n",
       "      <td>396</td>\n",
       "      <td>6128</td>\n",
       "      <td>1128402</td>\n",
       "      <td>184.138708</td>\n",
       "      <td>7477</td>\n",
       "      <td>1.220137</td>\n",
       "      <td>447</td>\n",
       "      <td>0.072944</td>\n",
       "      <td>SPA 1 - Antelope Valley</td>\n",
       "      <td>District 5</td>\n",
       "      <td>1.096711e+09</td>\n",
       "      <td>179822.468866</td>\n",
       "    </tr>\n",
       "    <tr>\n",
       "      <th>1</th>\n",
       "      <td>2</td>\n",
       "      <td>Agoura Hills</td>\n",
       "      <td>83892</td>\n",
       "      <td>365</td>\n",
       "      <td>216</td>\n",
       "      <td>587038</td>\n",
       "      <td>3288</td>\n",
       "      <td>470</td>\n",
       "      <td>17147</td>\n",
       "      <td>670930</td>\n",
       "      <td>39.128127</td>\n",
       "      <td>3653</td>\n",
       "      <td>0.213040</td>\n",
       "      <td>686</td>\n",
       "      <td>0.040007</td>\n",
       "      <td>SPA 2 - San Fernando</td>\n",
       "      <td>District 3</td>\n",
       "      <td>2.271186e+08</td>\n",
       "      <td>82596.202698</td>\n",
       "    </tr>\n",
       "    <tr>\n",
       "      <th>2</th>\n",
       "      <td>3</td>\n",
       "      <td>Agua Dulce</td>\n",
       "      <td>10573</td>\n",
       "      <td>46</td>\n",
       "      <td>23</td>\n",
       "      <td>377880</td>\n",
       "      <td>2513</td>\n",
       "      <td>140</td>\n",
       "      <td>21499</td>\n",
       "      <td>388453</td>\n",
       "      <td>18.068422</td>\n",
       "      <td>2559</td>\n",
       "      <td>0.119029</td>\n",
       "      <td>163</td>\n",
       "      <td>0.007582</td>\n",
       "      <td>SPA 1 - Antelope Valley</td>\n",
       "      <td>District 5</td>\n",
       "      <td>8.771276e+08</td>\n",
       "      <td>144935.193636</td>\n",
       "    </tr>\n",
       "    <tr>\n",
       "      <th>3</th>\n",
       "      <td>4</td>\n",
       "      <td>Alhambra</td>\n",
       "      <td>301550</td>\n",
       "      <td>1312</td>\n",
       "      <td>647</td>\n",
       "      <td>2444920</td>\n",
       "      <td>16637</td>\n",
       "      <td>751</td>\n",
       "      <td>3535</td>\n",
       "      <td>2746470</td>\n",
       "      <td>776.936351</td>\n",
       "      <td>17949</td>\n",
       "      <td>5.077511</td>\n",
       "      <td>1398</td>\n",
       "      <td>0.395474</td>\n",
       "      <td>SPA 3 - San Gabriel</td>\n",
       "      <td>District 1</td>\n",
       "      <td>2.125397e+08</td>\n",
       "      <td>69809.204299</td>\n",
       "    </tr>\n",
       "    <tr>\n",
       "      <th>4</th>\n",
       "      <td>5</td>\n",
       "      <td>Alondra Park</td>\n",
       "      <td>55621</td>\n",
       "      <td>242</td>\n",
       "      <td>112</td>\n",
       "      <td>667093</td>\n",
       "      <td>4244</td>\n",
       "      <td>326</td>\n",
       "      <td>83089</td>\n",
       "      <td>722714</td>\n",
       "      <td>8.698071</td>\n",
       "      <td>4486</td>\n",
       "      <td>0.053990</td>\n",
       "      <td>438</td>\n",
       "      <td>0.005271</td>\n",
       "      <td>SPA 8 - South Bay</td>\n",
       "      <td>District 2</td>\n",
       "      <td>3.177842e+07</td>\n",
       "      <td>26478.213464</td>\n",
       "    </tr>\n",
       "  </tbody>\n",
       "</table>\n",
       "</div>"
      ],
      "text/plain": [
       "   OBJECTID  Neighborhood  LAPD_Cost  LAPD_Days in Jail  LAPD_Arrests  \\\n",
       "0         1         Acton      25282                110            51   \n",
       "1         2  Agoura Hills      83892                365           216   \n",
       "2         3    Agua Dulce      10573                 46            23   \n",
       "3         4      Alhambra     301550               1312           647   \n",
       "4         5  Alondra Park      55621                242           112   \n",
       "\n",
       "   LASD_Cost  LASD_Days in Jail  LASD_Arrests  2010 Population  Combo_Cost  \\\n",
       "0    1103120               7367           396             6128     1128402   \n",
       "1     587038               3288           470            17147      670930   \n",
       "2     377880               2513           140            21499      388453   \n",
       "3    2444920              16637           751             3535     2746470   \n",
       "4     667093               4244           326            83089      722714   \n",
       "\n",
       "   Combo_Cost_PerPop  Combo_Days  Combo_Days_PerPop  Combo_Arrests  \\\n",
       "0         184.138708        7477           1.220137            447   \n",
       "1          39.128127        3653           0.213040            686   \n",
       "2          18.068422        2559           0.119029            163   \n",
       "3         776.936351       17949           5.077511           1398   \n",
       "4           8.698071        4486           0.053990            438   \n",
       "\n",
       "   Combo_Arrests_PerPop                      spa    sup_dist   Shape__Area  \\\n",
       "0              0.072944  SPA 1 - Antelope Valley  District 5  1.096711e+09   \n",
       "1              0.040007     SPA 2 - San Fernando  District 3  2.271186e+08   \n",
       "2              0.007582  SPA 1 - Antelope Valley  District 5  8.771276e+08   \n",
       "3              0.395474      SPA 3 - San Gabriel  District 1  2.125397e+08   \n",
       "4              0.005271        SPA 8 - South Bay  District 2  3.177842e+07   \n",
       "\n",
       "   Shape__Length  \n",
       "0  179822.468866  \n",
       "1   82596.202698  \n",
       "2  144935.193636  \n",
       "3   69809.204299  \n",
       "4   26478.213464  "
      ]
     },
     "execution_count": 17,
     "metadata": {},
     "output_type": "execute_result"
    }
   ],
   "source": [
    "data.head()"
   ]
  },
  {
   "cell_type": "code",
   "execution_count": null,
   "id": "0bd976cd-87d4-4bcf-9cdd-cd4435406696",
   "metadata": {},
   "outputs": [],
   "source": [
    "- The `.head()` method displays the first five rows of the dataset.\n",
    "- This provides an initial look at the data and its structure."
   ]
  },
  {
   "cell_type": "code",
   "execution_count": 18,
   "id": "902da00a-63c6-4c42-887a-88c19aaaf1b0",
   "metadata": {},
   "outputs": [
    {
     "data": {
      "text/plain": [
       "Neighborhood\n",
       "Acton                     1\n",
       "Agoura Hills              1\n",
       "Agua Dulce                1\n",
       "Alhambra                  1\n",
       "Alondra Park              1\n",
       "                         ..\n",
       "Windsor Square            1\n",
       "Winnetka                  1\n",
       "Woodland Hills            1\n",
       "Westside South Central    1\n",
       "Eastside South Central    1\n",
       "Name: count, Length: 244, dtype: int64"
      ]
     },
     "execution_count": 18,
     "metadata": {},
     "output_type": "execute_result"
    }
   ],
   "source": [
    "data['Neighborhood'].value_counts()"
   ]
  },
  {
   "cell_type": "code",
   "execution_count": null,
   "id": "862d5c9b-dd7c-49b8-bd65-afbaa708cdf5",
   "metadata": {},
   "outputs": [],
   "source": [
    "The `.value_counts()` method shows the distribution of values in the `Neighborhood` column.\n",
    "- This helps identify the most and least common neighborhoods in the dataset."
   ]
  },
  {
   "cell_type": "code",
   "execution_count": 20,
   "id": "d3068944-8abd-41b5-a970-373412a18bf7",
   "metadata": {},
   "outputs": [
    {
     "data": {
      "image/png": "[encoded data removed]",
      "text/plain": [
       "<Figure size 640x480 with 1 Axes>"
      ]
     },
     "metadata": {},
     "output_type": "display_data"
    }
   ],
   "source": [
    "data['LASD_Days in Jail'].plot(kind='hist', title='Distribution of Days in Jail', bins=30)\n",
    "plt.xlabel('Days in Jail')\n",
    "plt.ylabel('Frequency')\n",
    "plt.show()\n"
   ]
  },
  {
   "cell_type": "code",
   "execution_count": null,
   "id": "d452b4f7-3545-42d0-8136-d4bc3c03229b",
   "metadata": {},
   "outputs": [],
   "source": [
    "In this step, I am visualizing the distribution of the number of days individuals spent in jail using the column 'LASD_Days in Jail'from the dataset. Here’s what I am doing:\n",
    "\n",
    "I used the column 'LASD_Days in Jail' because it contains the data I want to analyze. It represents the number of days individuals spend in jail under the LASD\n",
    "I created a histogram to show the frequency distribution of values in this column\n",
    "I specify kind='hist' to create a histogram.\n",
    "I add bins=30 to divide the data into 30 equal intervals.\n",
    "I included meaningful axis labels (Days in Jail and Frequency) and a title (Distribution of Days in Jail) to make the visualization clear."
   ]
  },
  {
   "cell_type": "code",
   "execution_count": 22,
   "id": "9215c4ed-e4c3-400f-b3d3-84f748703443",
   "metadata": {},
   "outputs": [
    {
     "data": {
      "text/html": [
       "<div>\n",
       "<style scoped>\n",
       "    .dataframe tbody tr th:only-of-type {\n",
       "        vertical-align: middle;\n",
       "    }\n",
       "\n",
       "    .dataframe tbody tr th {\n",
       "        vertical-align: top;\n",
       "    }\n",
       "\n",
       "    .dataframe thead th {\n",
       "        text-align: right;\n",
       "    }\n",
       "</style>\n",
       "<table border=\"1\" class=\"dataframe\">\n",
       "  <thead>\n",
       "    <tr style=\"text-align: right;\">\n",
       "      <th></th>\n",
       "      <th>OBJECTID</th>\n",
       "      <th>Neighborhood</th>\n",
       "      <th>LAPD_Cost</th>\n",
       "      <th>LAPD_Days in Jail</th>\n",
       "      <th>LAPD_Arrests</th>\n",
       "      <th>LASD_Cost</th>\n",
       "      <th>LASD_Days in Jail</th>\n",
       "      <th>LASD_Arrests</th>\n",
       "      <th>2010 Population</th>\n",
       "      <th>Combo_Cost</th>\n",
       "      <th>Combo_Cost_PerPop</th>\n",
       "      <th>Combo_Days</th>\n",
       "      <th>Combo_Days_PerPop</th>\n",
       "      <th>Combo_Arrests</th>\n",
       "      <th>Combo_Arrests_PerPop</th>\n",
       "      <th>spa</th>\n",
       "      <th>sup_dist</th>\n",
       "      <th>Shape__Area</th>\n",
       "      <th>Shape__Length</th>\n",
       "    </tr>\n",
       "  </thead>\n",
       "  <tbody>\n",
       "    <tr>\n",
       "      <th>0</th>\n",
       "      <td>1</td>\n",
       "      <td>Acton</td>\n",
       "      <td>25282</td>\n",
       "      <td>110</td>\n",
       "      <td>51</td>\n",
       "      <td>1103120</td>\n",
       "      <td>7367</td>\n",
       "      <td>396</td>\n",
       "      <td>6128</td>\n",
       "      <td>1128402</td>\n",
       "      <td>184.138708</td>\n",
       "      <td>7477</td>\n",
       "      <td>1.220137</td>\n",
       "      <td>447</td>\n",
       "      <td>0.072944</td>\n",
       "      <td>SPA 1 - Antelope Valley</td>\n",
       "      <td>District 5</td>\n",
       "      <td>1.096711e+09</td>\n",
       "      <td>179822.468866</td>\n",
       "    </tr>\n",
       "    <tr>\n",
       "      <th>1</th>\n",
       "      <td>2</td>\n",
       "      <td>Agoura Hills</td>\n",
       "      <td>83892</td>\n",
       "      <td>365</td>\n",
       "      <td>216</td>\n",
       "      <td>587038</td>\n",
       "      <td>3288</td>\n",
       "      <td>470</td>\n",
       "      <td>17147</td>\n",
       "      <td>670930</td>\n",
       "      <td>39.128127</td>\n",
       "      <td>3653</td>\n",
       "      <td>0.213040</td>\n",
       "      <td>686</td>\n",
       "      <td>0.040007</td>\n",
       "      <td>SPA 2 - San Fernando</td>\n",
       "      <td>District 3</td>\n",
       "      <td>2.271186e+08</td>\n",
       "      <td>82596.202698</td>\n",
       "    </tr>\n",
       "    <tr>\n",
       "      <th>2</th>\n",
       "      <td>3</td>\n",
       "      <td>Agua Dulce</td>\n",
       "      <td>10573</td>\n",
       "      <td>46</td>\n",
       "      <td>23</td>\n",
       "      <td>377880</td>\n",
       "      <td>2513</td>\n",
       "      <td>140</td>\n",
       "      <td>21499</td>\n",
       "      <td>388453</td>\n",
       "      <td>18.068422</td>\n",
       "      <td>2559</td>\n",
       "      <td>0.119029</td>\n",
       "      <td>163</td>\n",
       "      <td>0.007582</td>\n",
       "      <td>SPA 1 - Antelope Valley</td>\n",
       "      <td>District 5</td>\n",
       "      <td>8.771276e+08</td>\n",
       "      <td>144935.193636</td>\n",
       "    </tr>\n",
       "    <tr>\n",
       "      <th>3</th>\n",
       "      <td>4</td>\n",
       "      <td>Alhambra</td>\n",
       "      <td>301550</td>\n",
       "      <td>1312</td>\n",
       "      <td>647</td>\n",
       "      <td>2444920</td>\n",
       "      <td>16637</td>\n",
       "      <td>751</td>\n",
       "      <td>3535</td>\n",
       "      <td>2746470</td>\n",
       "      <td>776.936351</td>\n",
       "      <td>17949</td>\n",
       "      <td>5.077511</td>\n",
       "      <td>1398</td>\n",
       "      <td>0.395474</td>\n",
       "      <td>SPA 3 - San Gabriel</td>\n",
       "      <td>District 1</td>\n",
       "      <td>2.125397e+08</td>\n",
       "      <td>69809.204299</td>\n",
       "    </tr>\n",
       "    <tr>\n",
       "      <th>4</th>\n",
       "      <td>5</td>\n",
       "      <td>Alondra Park</td>\n",
       "      <td>55621</td>\n",
       "      <td>242</td>\n",
       "      <td>112</td>\n",
       "      <td>667093</td>\n",
       "      <td>4244</td>\n",
       "      <td>326</td>\n",
       "      <td>83089</td>\n",
       "      <td>722714</td>\n",
       "      <td>8.698071</td>\n",
       "      <td>4486</td>\n",
       "      <td>0.053990</td>\n",
       "      <td>438</td>\n",
       "      <td>0.005271</td>\n",
       "      <td>SPA 8 - South Bay</td>\n",
       "      <td>District 2</td>\n",
       "      <td>3.177842e+07</td>\n",
       "      <td>26478.213464</td>\n",
       "    </tr>\n",
       "  </tbody>\n",
       "</table>\n",
       "</div>"
      ],
      "text/plain": [
       "   OBJECTID  Neighborhood  LAPD_Cost  LAPD_Days in Jail  LAPD_Arrests  \\\n",
       "0         1         Acton      25282                110            51   \n",
       "1         2  Agoura Hills      83892                365           216   \n",
       "2         3    Agua Dulce      10573                 46            23   \n",
       "3         4      Alhambra     301550               1312           647   \n",
       "4         5  Alondra Park      55621                242           112   \n",
       "\n",
       "   LASD_Cost  LASD_Days in Jail  LASD_Arrests  2010 Population  Combo_Cost  \\\n",
       "0    1103120               7367           396             6128     1128402   \n",
       "1     587038               3288           470            17147      670930   \n",
       "2     377880               2513           140            21499      388453   \n",
       "3    2444920              16637           751             3535     2746470   \n",
       "4     667093               4244           326            83089      722714   \n",
       "\n",
       "   Combo_Cost_PerPop  Combo_Days  Combo_Days_PerPop  Combo_Arrests  \\\n",
       "0         184.138708        7477           1.220137            447   \n",
       "1          39.128127        3653           0.213040            686   \n",
       "2          18.068422        2559           0.119029            163   \n",
       "3         776.936351       17949           5.077511           1398   \n",
       "4           8.698071        4486           0.053990            438   \n",
       "\n",
       "   Combo_Arrests_PerPop                      spa    sup_dist   Shape__Area  \\\n",
       "0              0.072944  SPA 1 - Antelope Valley  District 5  1.096711e+09   \n",
       "1              0.040007     SPA 2 - San Fernando  District 3  2.271186e+08   \n",
       "2              0.007582  SPA 1 - Antelope Valley  District 5  8.771276e+08   \n",
       "3              0.395474      SPA 3 - San Gabriel  District 1  2.125397e+08   \n",
       "4              0.005271        SPA 8 - South Bay  District 2  3.177842e+07   \n",
       "\n",
       "   Shape__Length  \n",
       "0  179822.468866  \n",
       "1   82596.202698  \n",
       "2  144935.193636  \n",
       "3   69809.204299  \n",
       "4   26478.213464  "
      ]
     },
     "execution_count": 22,
     "metadata": {},
     "output_type": "execute_result"
    }
   ],
   "source": [
    "filtered_data = data[data['LASD_Days in Jail'] > 30]\n",
    "filtered_data.head()"
   ]
  },
  {
   "cell_type": "code",
   "execution_count": null,
   "id": "0954d2f8-ac0f-4340-87f9-5320c91d2322",
   "metadata": {},
   "outputs": [],
   "source": [
    "Queried the dataset to find individuals who spent more than 30 days in jail."
   ]
  },
  {
   "cell_type": "code",
   "execution_count": 41,
   "id": "93f9093f-9c00-4a88-9700-b354f38ce2e1",
   "metadata": {},
   "outputs": [
    {
     "name": "stdout",
     "output_type": "stream",
     "text": [
      "/home/jovyan/up221_amilh\n"
     ]
    }
   ],
   "source": [
    "cd /home/jovyan/up221_amilh\n"
   ]
  }
 ],
 "metadata": {
  "kernelspec": {
   "display_name": "Python 3 (ipykernel)",
   "language": "python",
   "name": "python3"
  },
  "language_info": {
   "codemirror_mode": {
    "name": "ipython",
    "version": 3
   },
   "file_extension": ".py",
   "mimetype": "text/x-python",
   "name": "python",
   "nbconvert_exporter": "python",
   "pygments_lexer": "ipython3",
   "version": "3.11.9"
  }
 },
 "nbformat": 4,
 "nbformat_minor": 5
}
